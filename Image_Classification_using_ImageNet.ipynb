{
  "nbformat": 4,
  "nbformat_minor": 0,
  "metadata": {
    "colab": {
      "provenance": [],
      "authorship_tag": "ABX9TyMZSH8lf3btTDT5qj/yLFXW",
      "include_colab_link": true
    },
    "kernelspec": {
      "name": "python3",
      "display_name": "Python 3"
    },
    "language_info": {
      "name": "python"
    }
  },
  "cells": [
    {
      "cell_type": "markdown",
      "metadata": {
        "id": "view-in-github",
        "colab_type": "text"
      },
      "source": [
        "<a href=\"https://colab.research.google.com/github/TheCiceerGuy/Image-Classification-on-ImageNet/blob/main/Image_Classification_using_ImageNet.ipynb\" target=\"_parent\"><img src=\"https://colab.research.google.com/assets/colab-badge.svg\" alt=\"Open In Colab\"/></a>"
      ]
    },
    {
      "cell_type": "markdown",
      "source": [
        "**Importing Libraries**\n"
      ],
      "metadata": {
        "id": "qA7S1xK1Pjdv"
      }
    },
    {
      "cell_type": "code",
      "execution_count": null,
      "metadata": {
        "id": "24XswsZA_MHT"
      },
      "outputs": [],
      "source": [
        "import numpy as np\n",
        "import pandas as pd\n",
        "from keras.applications.resnet50 import ResNet50\n",
        "from keras.applications import VGG16\n",
        "from keras.preprocessing import image\n",
        "from keras.applications.resnet50 import preprocess_input as preprocess_input_vgg, decode_predictions\n",
        "from keras.applications.vgg16 import preprocess_input as preprocess_input_resnet, decode_predictions\n",
        "from sklearn.ensemble import RandomForestClassifier\n",
        "from sklearn.neighbors import KNeighborsClassifier\n",
        "from sklearn.tree import DecisionTreeClassifier\n",
        "from sklearn.naive_bayes import GaussianNB\n",
        "from sklearn.model_selection import train_test_split\n",
        "from sklearn.metrics import accuracy_score\n",
        "from keras.utils import to_categorical\n",
        "import matplotlib.pyplot as plt"
      ]
    },
    {
      "cell_type": "markdown",
      "source": [
        "**Load pre-trained VGG16 and ResNet50 models**"
      ],
      "metadata": {
        "id": "l7ZQpf2LREfW"
      }
    },
    {
      "cell_type": "code",
      "source": [
        "vgg_model = VGG16(weights='imagenet', include_top=False)\n",
        "resnet_model = ResNet50(weights='imagenet', include_top=False)"
      ],
      "metadata": {
        "id": "BSCa9dLBRtDe",
        "colab": {
          "base_uri": "https://localhost:8080/"
        },
        "outputId": "01d788d0-8eb2-4663-b7d1-d47ba20f1c72"
      },
      "execution_count": null,
      "outputs": [
        {
          "output_type": "stream",
          "name": "stdout",
          "text": [
            "Downloading data from https://storage.googleapis.com/tensorflow/keras-applications/vgg16/vgg16_weights_tf_dim_ordering_tf_kernels_notop.h5\n",
            "58889256/58889256 [==============================] - 3s 0us/step\n",
            "Downloading data from https://storage.googleapis.com/tensorflow/keras-applications/resnet/resnet50_weights_tf_dim_ordering_tf_kernels_notop.h5\n",
            "94765736/94765736 [==============================] - 4s 0us/step\n"
          ]
        }
      ]
    },
    {
      "cell_type": "markdown",
      "source": [
        "**Function to extract features using ResNet50 Model**"
      ],
      "metadata": {
        "id": "NsOThvird_jT"
      }
    },
    {
      "cell_type": "code",
      "source": [
        "def extract_features_resnet(img_path):\n",
        "    img = image.load_img(img_path, target_size=(224, 224))\n",
        "    x = image.img_to_array(img)\n",
        "    x = np.expand_dims(x, axis=0)\n",
        "    x = preprocess_input_resnet(x)\n",
        "    features = resnet_model.predict(x)\n",
        "    return features.flatten()"
      ],
      "metadata": {
        "id": "-jjJ9fOqeIi9"
      },
      "execution_count": null,
      "outputs": []
    },
    {
      "cell_type": "markdown",
      "source": [
        "**Function to extract features using VGG16**"
      ],
      "metadata": {
        "id": "h5lbrqBPgKvV"
      }
    },
    {
      "cell_type": "code",
      "source": [
        "def extract_features_vgg(img_path):\n",
        "    img = image.load_img(img_path, target_size=(224, 224))\n",
        "    x = image.img_to_array(img)\n",
        "    x = np.expand_dims(x, axis=0)\n",
        "    x = preprocess_input_vgg(x)\n",
        "    features = vgg_model.predict(x)\n",
        "    return features.flatten()"
      ],
      "metadata": {
        "id": "Ek2eLNZHgLgq"
      },
      "execution_count": null,
      "outputs": []
    },
    {
      "cell_type": "markdown",
      "source": [
        "**Load your image for training and testing**"
      ],
      "metadata": {
        "id": "4-_ehMtWgYX6"
      }
    },
    {
      "cell_type": "code",
      "source": [
        "image_path = '/content/dog.png'\n",
        "true_label = 0  # Actual label of the image (if available)"
      ],
      "metadata": {
        "id": "CJfHMWbIerR3"
      },
      "execution_count": null,
      "outputs": []
    },
    {
      "cell_type": "markdown",
      "source": [
        "**Extract features using both VGG16 and ResNet50 for the given image**"
      ],
      "metadata": {
        "id": "E25x7gGzewXc"
      }
    },
    {
      "cell_type": "code",
      "source": [
        "vgg_features = extract_features_vgg(image_path)\n",
        "resnet_features = extract_features_resnet(image_path)"
      ],
      "metadata": {
        "colab": {
          "base_uri": "https://localhost:8080/"
        },
        "id": "kxoROTe0fHRQ",
        "outputId": "33deae16-8043-4728-ddb9-aca1f3193193"
      },
      "execution_count": null,
      "outputs": [
        {
          "output_type": "stream",
          "name": "stdout",
          "text": [
            "1/1 [==============================] - 1s 814ms/step\n",
            "1/1 [==============================] - 2s 2s/step\n"
          ]
        }
      ]
    },
    {
      "cell_type": "markdown",
      "source": [
        "**Combine features from both models**"
      ],
      "metadata": {
        "id": "p48vgZw6hzc7"
      }
    },
    {
      "cell_type": "code",
      "source": [
        "combined_features = np.concatenate((vgg_features, resnet_features))"
      ],
      "metadata": {
        "id": "BgGMSR5mh5jJ"
      },
      "execution_count": null,
      "outputs": []
    },
    {
      "cell_type": "markdown",
      "source": [
        "**Reshape combined features to a format compatible with classifiers**"
      ],
      "metadata": {
        "id": "HEvctGGaiAmo"
      }
    },
    {
      "cell_type": "code",
      "source": [
        "reshaped_features = combined_features.reshape(1, -1)"
      ],
      "metadata": {
        "id": "bFbhna8yiCwJ"
      },
      "execution_count": null,
      "outputs": []
    },
    {
      "cell_type": "markdown",
      "source": [
        "**Initialize classifiers**"
      ],
      "metadata": {
        "id": "OhBO-elqijfS"
      }
    },
    {
      "cell_type": "code",
      "source": [
        "label = 0\n",
        "rf_classifier = RandomForestClassifier(n_estimators=100)\n",
        "knn_classifier = KNeighborsClassifier(n_neighbors=1)\n",
        "dt_classifier = DecisionTreeClassifier()\n",
        "nb_classifier = GaussianNB()"
      ],
      "metadata": {
        "id": "6GGqjda5ipQR"
      },
      "execution_count": null,
      "outputs": []
    },
    {
      "cell_type": "code",
      "source": [
        "classifiers = {\n",
        "    'Random Forest': rf_classifier,\n",
        "    'KNN': knn_classifier,\n",
        "    'Decision Tree': dt_classifier,\n",
        "    'Naive Bayes': nb_classifier\n",
        "}"
      ],
      "metadata": {
        "id": "ih4WFYPhvAcj"
      },
      "execution_count": null,
      "outputs": []
    },
    {
      "cell_type": "markdown",
      "source": [
        "**Train classifiers with the single image features**"
      ],
      "metadata": {
        "id": "RMu048TqvLYf"
      }
    },
    {
      "cell_type": "code",
      "source": [
        "for name, clf in classifiers.items():\n",
        "    clf.fit(reshaped_features, [true_label])\n",
        "    pred = clf.predict(reshaped_features)\n",
        "    accuracy = accuracy_score([true_label], pred)\n",
        "    print(f\"{name} Accuracy: {accuracy}\")"
      ],
      "metadata": {
        "colab": {
          "base_uri": "https://localhost:8080/"
        },
        "id": "TZAOauoxvOYT",
        "outputId": "b5446650-48a8-4d8d-9c82-6ca7c944bb05"
      },
      "execution_count": null,
      "outputs": [
        {
          "output_type": "stream",
          "name": "stdout",
          "text": [
            "Random Forest Accuracy: 1.0\n",
            "KNN Accuracy: 1.0\n",
            "Decision Tree Accuracy: 1.0\n",
            "Naive Bayes Accuracy: 1.0\n"
          ]
        },
        {
          "output_type": "stream",
          "name": "stderr",
          "text": [
            "/usr/local/lib/python3.10/dist-packages/sklearn/naive_bayes.py:515: RuntimeWarning: divide by zero encountered in log\n",
            "  n_ij = -0.5 * np.sum(np.log(2.0 * np.pi * self.var_[i, :]))\n",
            "/usr/local/lib/python3.10/dist-packages/sklearn/naive_bayes.py:516: RuntimeWarning: invalid value encountered in divide\n",
            "  n_ij -= 0.5 * np.sum(((X - self.theta_[i, :]) ** 2) / (self.var_[i, :]), 1)\n"
          ]
        }
      ]
    },
    {
      "cell_type": "markdown",
      "source": [
        "**Predict using ML classifiers with combined features**"
      ],
      "metadata": {
        "id": "vRoxPjRLi9bZ"
      }
    },
    {
      "cell_type": "markdown",
      "source": [
        "**Train Random Forest classifier with the single image features**"
      ],
      "metadata": {
        "id": "LPFkBhbBwLXA"
      }
    },
    {
      "cell_type": "code",
      "source": [
        "rf_classifier.fit(reshaped_features, [true_label])\n",
        "rf_pred = rf_classifier.predict(reshaped_features)\n",
        "rf_accuracy = accuracy_score([true_label], rf_pred)"
      ],
      "metadata": {
        "id": "c7zCH4fCwICq"
      },
      "execution_count": null,
      "outputs": []
    },
    {
      "cell_type": "code",
      "source": [
        "nb_classifier.fit(reshaped_features, [true_label])\n",
        "nb_pred = nb_classifier.predict(reshaped_features)\n",
        "nb_accuracy = accuracy_score([true_label], nb_pred)"
      ],
      "metadata": {
        "colab": {
          "base_uri": "https://localhost:8080/"
        },
        "id": "Ax0-dKq3tUT-",
        "outputId": "ec167112-e164-4c70-bfcd-6d87c60ee75c"
      },
      "execution_count": null,
      "outputs": [
        {
          "output_type": "stream",
          "name": "stderr",
          "text": [
            "/usr/local/lib/python3.10/dist-packages/sklearn/naive_bayes.py:515: RuntimeWarning: divide by zero encountered in log\n",
            "  n_ij = -0.5 * np.sum(np.log(2.0 * np.pi * self.var_[i, :]))\n",
            "/usr/local/lib/python3.10/dist-packages/sklearn/naive_bayes.py:516: RuntimeWarning: invalid value encountered in divide\n",
            "  n_ij -= 0.5 * np.sum(((X - self.theta_[i, :]) ** 2) / (self.var_[i, :]), 1)\n"
          ]
        }
      ]
    },
    {
      "cell_type": "markdown",
      "source": [
        "**Print predictions**"
      ],
      "metadata": {
        "id": "ch_oA_sIjEIg"
      }
    },
    {
      "cell_type": "code",
      "source": [
        "print(f\"Random Forest Prediction: {rf_pred}\")\n",
        "\n",
        "print(f\"Naive Bayes Prediction: {nb_pred}\")"
      ],
      "metadata": {
        "colab": {
          "base_uri": "https://localhost:8080/"
        },
        "id": "mMCBo6g5i52C",
        "outputId": "26f85cc3-a693-4189-f331-89e464b34f90"
      },
      "execution_count": null,
      "outputs": [
        {
          "output_type": "stream",
          "name": "stdout",
          "text": [
            "Random Forest Prediction: [0]\n",
            "Naive Bayes Prediction: [0]\n"
          ]
        }
      ]
    },
    {
      "cell_type": "code",
      "source": [
        "print(\"True Label:\", true_label)\n",
        "print(\"Random Forest Predicted Label:\", rf_pred[0])\n",
        "print(\"Naive Bayes Predicted Label:\", nb_pred[0])"
      ],
      "metadata": {
        "colab": {
          "base_uri": "https://localhost:8080/"
        },
        "id": "vm2VEyaxxsZx",
        "outputId": "28660b6c-cd0c-4c35-c743-9e8910738976"
      },
      "execution_count": null,
      "outputs": [
        {
          "output_type": "stream",
          "name": "stdout",
          "text": [
            "True Label: 0\n",
            "Random Forest Predicted Label: 0\n",
            "Naive Bayes Predicted Label: 0\n"
          ]
        }
      ]
    },
    {
      "cell_type": "markdown",
      "source": [
        "**Accuracy Comparison Visualization**"
      ],
      "metadata": {
        "id": "dkGvGep9ZXQb"
      }
    },
    {
      "cell_type": "code",
      "source": [
        "\n",
        "\n",
        "# Accuracy scores for each algorithm\n",
        "algorithms = ['Random Forest','Naive Bayes']\n",
        "accuracy_scores = [rf_accuracy, nb_accuracy]\n",
        "\n",
        "# Plotting the accuracy comparison\n",
        "plt.bar(algorithms, accuracy_scores, color=['blue', 'green', 'red', 'purple'])\n",
        "plt.xlabel('classifiers')\n",
        "plt.ylabel('Accuracy Score')\n",
        "plt.title('Accuracy Comparison Among Different Algorithms')\n",
        "plt.ylim(0, 1)  #y-axis limit between 0 and 1 for accuracy scores\n",
        "plt.show()\n"
      ],
      "metadata": {
        "colab": {
          "base_uri": "https://localhost:8080/",
          "height": 472
        },
        "id": "s2ZkyxunNTie",
        "outputId": "8a0a34b3-ba94-42d5-ddfd-0ddcd00a42fb"
      },
      "execution_count": null,
      "outputs": [
        {
          "output_type": "display_data",
          "data": {
            "text/plain": [
              "<Figure size 640x480 with 1 Axes>"
            ],
            "image/png": "[encoded data removed]"
          },
          "metadata": {}
        }
      ]
    },
    {
      "cell_type": "markdown",
      "source": [
        "Each prediction corresponds to the label/class assigned by the respective classifier for the provided image. The result [0] indicates that all classifiers predicted the same label for the image."
      ],
      "metadata": {
        "id": "JG6BPXJ3wsmP"
      }
    },
    {
      "cell_type": "markdown",
      "source": [
        "**What you have learned from this project and about the algorithms?**\n",
        "1.   Feature Extraction using Pre-trained Models: Leveraging pre-trained deep learning models like VGG16 allows for effective feature extraction from images. These models, trained on large datasets like ImageNet, offer valuable features that can be utilized for other machine learning tasks.\n",
        "2.   Image Classification: The use of machine learning algorithms like Random Forest and Naive Bayes on extracted features enables image classification tasks even with limited data. These algorithms can work well with reduced, high-level representations obtained from deep learning models.\n",
        "3.Model Performance and Interpretation: Assessing the performance of various algorithms on image data involves not just accuracy measurement but also understanding the interpretability of predictions. Some algorithms might perform better on specific types of data due to their inherent characteristics.\n",
        "4.Handling Image Data: Image data preprocessing, including resizing, normalization, and formatting, is crucial for compatibility with deep learning models and downstream machine learning algorithms.\n",
        "5.Algorithm Selection: Different algorithms have their strengths and weaknesses. Deep learning models excel at feature extraction from complex data like images, while traditional machine learning models like Random Forest and Naive Bayes can effectively work with extracted features for classification tasks.\n",
        "6.Transfer Learning and Reusability: Pre-trained models offer the advantage of transfer learning, allowing the use of learned features for other tasks, thus saving computational resources and time.\n",
        "\n"
      ],
      "metadata": {
        "id": "gurD3ZYKwurq"
      }
    }
  ]
}